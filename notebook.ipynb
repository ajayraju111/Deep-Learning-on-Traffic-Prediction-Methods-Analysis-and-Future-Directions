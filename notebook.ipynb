{
 "cells": [
  {
   "cell_type": "code",
   "execution_count": 1,
   "metadata": {},
   "outputs": [],
   "source": [
    "import numpy as np\n",
    "import pandas as pd"
   ]
  },
  {
   "cell_type": "code",
   "execution_count": 2,
   "metadata": {},
   "outputs": [],
   "source": [
    "dataset = pd.read_csv('data.csv', header = None)"
   ]
  },
  {
   "cell_type": "code",
   "execution_count": 3,
   "metadata": {},
   "outputs": [
    {
     "name": "stdout",
     "output_type": "stream",
     "text": [
      "<class 'pandas.core.frame.DataFrame'>\n",
      "RangeIndex: 5000 entries, 0 to 4999\n",
      "Data columns (total 9 columns):\n",
      " #   Column  Non-Null Count  Dtype \n",
      "---  ------  --------------  ----- \n",
      " 0   0       5000 non-null   object\n",
      " 1   1       5000 non-null   int64 \n",
      " 2   2       5000 non-null   int64 \n",
      " 3   3       5000 non-null   int64 \n",
      " 4   4       5000 non-null   int64 \n",
      " 5   5       5000 non-null   int64 \n",
      " 6   6       5000 non-null   int64 \n",
      " 7   7       5000 non-null   int64 \n",
      " 8   8       5000 non-null   object\n",
      "dtypes: int64(7), object(2)\n",
      "memory usage: 351.7+ KB\n"
     ]
    }
   ],
   "source": [
    "dataset.info()"
   ]
  },
  {
   "cell_type": "code",
   "execution_count": 4,
   "metadata": {
    "scrolled": true
   },
   "outputs": [
    {
     "data": {
      "text/html": [
       "<div>\n",
       "<style scoped>\n",
       "    .dataframe tbody tr th:only-of-type {\n",
       "        vertical-align: middle;\n",
       "    }\n",
       "\n",
       "    .dataframe tbody tr th {\n",
       "        vertical-align: top;\n",
       "    }\n",
       "\n",
       "    .dataframe thead th {\n",
       "        text-align: right;\n",
       "    }\n",
       "</style>\n",
       "<table border=\"1\" class=\"dataframe\">\n",
       "  <thead>\n",
       "    <tr style=\"text-align: right;\">\n",
       "      <th></th>\n",
       "      <th>0</th>\n",
       "      <th>1</th>\n",
       "      <th>2</th>\n",
       "      <th>3</th>\n",
       "      <th>4</th>\n",
       "      <th>5</th>\n",
       "      <th>6</th>\n",
       "      <th>7</th>\n",
       "      <th>8</th>\n",
       "    </tr>\n",
       "  </thead>\n",
       "  <tbody>\n",
       "    <tr>\n",
       "      <th>0</th>\n",
       "      <td>Saturday</td>\n",
       "      <td>6</td>\n",
       "      <td>32</td>\n",
       "      <td>21</td>\n",
       "      <td>38</td>\n",
       "      <td>9</td>\n",
       "      <td>24</td>\n",
       "      <td>1</td>\n",
       "      <td>Normal</td>\n",
       "    </tr>\n",
       "    <tr>\n",
       "      <th>1</th>\n",
       "      <td>Saturday</td>\n",
       "      <td>6</td>\n",
       "      <td>103</td>\n",
       "      <td>36</td>\n",
       "      <td>16</td>\n",
       "      <td>2</td>\n",
       "      <td>12</td>\n",
       "      <td>1</td>\n",
       "      <td>Normal</td>\n",
       "    </tr>\n",
       "    <tr>\n",
       "      <th>2</th>\n",
       "      <td>Sunday</td>\n",
       "      <td>7</td>\n",
       "      <td>79</td>\n",
       "      <td>21</td>\n",
       "      <td>15</td>\n",
       "      <td>8</td>\n",
       "      <td>14</td>\n",
       "      <td>1</td>\n",
       "      <td>Normal</td>\n",
       "    </tr>\n",
       "    <tr>\n",
       "      <th>3</th>\n",
       "      <td>Sunday</td>\n",
       "      <td>7</td>\n",
       "      <td>65</td>\n",
       "      <td>13</td>\n",
       "      <td>40</td>\n",
       "      <td>5</td>\n",
       "      <td>15</td>\n",
       "      <td>1</td>\n",
       "      <td>Normal</td>\n",
       "    </tr>\n",
       "    <tr>\n",
       "      <th>4</th>\n",
       "      <td>Saturday</td>\n",
       "      <td>6</td>\n",
       "      <td>93</td>\n",
       "      <td>36</td>\n",
       "      <td>20</td>\n",
       "      <td>4</td>\n",
       "      <td>16</td>\n",
       "      <td>1</td>\n",
       "      <td>Normal</td>\n",
       "    </tr>\n",
       "  </tbody>\n",
       "</table>\n",
       "</div>"
      ],
      "text/plain": [
       "          0  1    2   3   4  5   6  7       8\n",
       "0  Saturday  6   32  21  38  9  24  1  Normal\n",
       "1  Saturday  6  103  36  16  2  12  1  Normal\n",
       "2    Sunday  7   79  21  15  8  14  1  Normal\n",
       "3    Sunday  7   65  13  40  5  15  1  Normal\n",
       "4  Saturday  6   93  36  20  4  16  1  Normal"
      ]
     },
     "execution_count": 4,
     "metadata": {},
     "output_type": "execute_result"
    }
   ],
   "source": [
    "dataset.head()"
   ]
  },
  {
   "cell_type": "code",
   "execution_count": 5,
   "metadata": {},
   "outputs": [
    {
     "name": "stdout",
     "output_type": "stream",
     "text": [
      "<class 'pandas.core.frame.DataFrame'>\n",
      "RangeIndex: 5000 entries, 0 to 4999\n",
      "Data columns (total 9 columns):\n",
      " #   Column  Non-Null Count  Dtype \n",
      "---  ------  --------------  ----- \n",
      " 0   0       5000 non-null   object\n",
      " 1   1       5000 non-null   int64 \n",
      " 2   2       5000 non-null   int64 \n",
      " 3   3       5000 non-null   int64 \n",
      " 4   4       5000 non-null   int64 \n",
      " 5   5       5000 non-null   int64 \n",
      " 6   6       5000 non-null   int64 \n",
      " 7   7       5000 non-null   int64 \n",
      " 8   8       5000 non-null   object\n",
      "dtypes: int64(7), object(2)\n",
      "memory usage: 351.7+ KB\n"
     ]
    }
   ],
   "source": [
    "dataset.info()"
   ]
  },
  {
   "cell_type": "code",
   "execution_count": 6,
   "metadata": {
    "scrolled": true
   },
   "outputs": [
    {
     "name": "stdout",
     "output_type": "stream",
     "text": [
      "0    0\n",
      "1    0\n",
      "2    0\n",
      "3    0\n",
      "4    0\n",
      "5    0\n",
      "6    0\n",
      "7    0\n",
      "8    0\n",
      "dtype: int64\n"
     ]
    }
   ],
   "source": [
    "missing_data = dataset.isnull().sum()\n",
    "print(missing_data)"
   ]
  },
  {
   "cell_type": "code",
   "execution_count": 7,
   "metadata": {},
   "outputs": [
    {
     "data": {
      "text/plain": [
       "Move On    1000\n",
       "Heavy      1000\n",
       "Busy       1000\n",
       "Normal     1000\n",
       "Worst      1000\n",
       "Name: 8, dtype: int64"
      ]
     },
     "execution_count": 7,
     "metadata": {},
     "output_type": "execute_result"
    }
   ],
   "source": [
    "dataset[8].value_counts()"
   ]
  },
  {
   "cell_type": "code",
   "execution_count": 8,
   "metadata": {},
   "outputs": [],
   "source": [
    "from sklearn import preprocessing\n",
    "  \n",
    "# label_encoder object knows how to understand word labels.\n",
    "label_encoder = preprocessing.LabelEncoder()\n",
    "  \n",
    "# Encode labels in column 'species'.\n",
    "dataset[8]= label_encoder.fit_transform(dataset[8])"
   ]
  },
  {
   "cell_type": "code",
   "execution_count": 9,
   "metadata": {},
   "outputs": [
    {
     "data": {
      "text/plain": [
       "array([3, 2, 0, 1, 4])"
      ]
     },
     "execution_count": 9,
     "metadata": {},
     "output_type": "execute_result"
    }
   ],
   "source": [
    "dataset[8].unique()"
   ]
  },
  {
   "cell_type": "code",
   "execution_count": 10,
   "metadata": {},
   "outputs": [
    {
     "data": {
      "text/plain": [
       "Int64Index([0, 1, 2, 3, 4, 5, 6, 7, 8], dtype='int64')"
      ]
     },
     "execution_count": 10,
     "metadata": {},
     "output_type": "execute_result"
    }
   ],
   "source": [
    "dataset.columns"
   ]
  },
  {
   "cell_type": "code",
   "execution_count": 11,
   "metadata": {},
   "outputs": [
    {
     "name": "stdout",
     "output_type": "stream",
     "text": [
      "(5000, 9)\n"
     ]
    }
   ],
   "source": [
    "print(dataset.shape)"
   ]
  },
  {
   "cell_type": "code",
   "execution_count": 37,
   "metadata": {},
   "outputs": [],
   "source": [
    "X = dataset.iloc[:, 1:8]\n",
    "y = dataset.iloc[:,8]"
   ]
  },
  {
   "cell_type": "code",
   "execution_count": 38,
   "metadata": {},
   "outputs": [
    {
     "data": {
      "text/html": [
       "<div>\n",
       "<style scoped>\n",
       "    .dataframe tbody tr th:only-of-type {\n",
       "        vertical-align: middle;\n",
       "    }\n",
       "\n",
       "    .dataframe tbody tr th {\n",
       "        vertical-align: top;\n",
       "    }\n",
       "\n",
       "    .dataframe thead th {\n",
       "        text-align: right;\n",
       "    }\n",
       "</style>\n",
       "<table border=\"1\" class=\"dataframe\">\n",
       "  <thead>\n",
       "    <tr style=\"text-align: right;\">\n",
       "      <th></th>\n",
       "      <th>1</th>\n",
       "      <th>2</th>\n",
       "      <th>3</th>\n",
       "      <th>4</th>\n",
       "      <th>5</th>\n",
       "      <th>6</th>\n",
       "      <th>7</th>\n",
       "    </tr>\n",
       "  </thead>\n",
       "  <tbody>\n",
       "    <tr>\n",
       "      <th>0</th>\n",
       "      <td>6</td>\n",
       "      <td>32</td>\n",
       "      <td>21</td>\n",
       "      <td>38</td>\n",
       "      <td>9</td>\n",
       "      <td>24</td>\n",
       "      <td>1</td>\n",
       "    </tr>\n",
       "    <tr>\n",
       "      <th>1</th>\n",
       "      <td>6</td>\n",
       "      <td>103</td>\n",
       "      <td>36</td>\n",
       "      <td>16</td>\n",
       "      <td>2</td>\n",
       "      <td>12</td>\n",
       "      <td>1</td>\n",
       "    </tr>\n",
       "    <tr>\n",
       "      <th>2</th>\n",
       "      <td>7</td>\n",
       "      <td>79</td>\n",
       "      <td>21</td>\n",
       "      <td>15</td>\n",
       "      <td>8</td>\n",
       "      <td>14</td>\n",
       "      <td>1</td>\n",
       "    </tr>\n",
       "    <tr>\n",
       "      <th>3</th>\n",
       "      <td>7</td>\n",
       "      <td>65</td>\n",
       "      <td>13</td>\n",
       "      <td>40</td>\n",
       "      <td>5</td>\n",
       "      <td>15</td>\n",
       "      <td>1</td>\n",
       "    </tr>\n",
       "    <tr>\n",
       "      <th>4</th>\n",
       "      <td>6</td>\n",
       "      <td>93</td>\n",
       "      <td>36</td>\n",
       "      <td>20</td>\n",
       "      <td>4</td>\n",
       "      <td>16</td>\n",
       "      <td>1</td>\n",
       "    </tr>\n",
       "    <tr>\n",
       "      <th>...</th>\n",
       "      <td>...</td>\n",
       "      <td>...</td>\n",
       "      <td>...</td>\n",
       "      <td>...</td>\n",
       "      <td>...</td>\n",
       "      <td>...</td>\n",
       "      <td>...</td>\n",
       "    </tr>\n",
       "    <tr>\n",
       "      <th>4995</th>\n",
       "      <td>5</td>\n",
       "      <td>130</td>\n",
       "      <td>45</td>\n",
       "      <td>45</td>\n",
       "      <td>5</td>\n",
       "      <td>20</td>\n",
       "      <td>0</td>\n",
       "    </tr>\n",
       "    <tr>\n",
       "      <th>4996</th>\n",
       "      <td>7</td>\n",
       "      <td>90</td>\n",
       "      <td>4</td>\n",
       "      <td>8</td>\n",
       "      <td>2</td>\n",
       "      <td>20</td>\n",
       "      <td>1</td>\n",
       "    </tr>\n",
       "    <tr>\n",
       "      <th>4997</th>\n",
       "      <td>2</td>\n",
       "      <td>32</td>\n",
       "      <td>21</td>\n",
       "      <td>11</td>\n",
       "      <td>8</td>\n",
       "      <td>30</td>\n",
       "      <td>0</td>\n",
       "    </tr>\n",
       "    <tr>\n",
       "      <th>4998</th>\n",
       "      <td>6</td>\n",
       "      <td>74</td>\n",
       "      <td>33</td>\n",
       "      <td>12</td>\n",
       "      <td>3</td>\n",
       "      <td>5</td>\n",
       "      <td>1</td>\n",
       "    </tr>\n",
       "    <tr>\n",
       "      <th>4999</th>\n",
       "      <td>7</td>\n",
       "      <td>36</td>\n",
       "      <td>34</td>\n",
       "      <td>33</td>\n",
       "      <td>8</td>\n",
       "      <td>21</td>\n",
       "      <td>1</td>\n",
       "    </tr>\n",
       "  </tbody>\n",
       "</table>\n",
       "<p>5000 rows × 7 columns</p>\n",
       "</div>"
      ],
      "text/plain": [
       "      1    2   3   4  5   6  7\n",
       "0     6   32  21  38  9  24  1\n",
       "1     6  103  36  16  2  12  1\n",
       "2     7   79  21  15  8  14  1\n",
       "3     7   65  13  40  5  15  1\n",
       "4     6   93  36  20  4  16  1\n",
       "...  ..  ...  ..  .. ..  .. ..\n",
       "4995  5  130  45  45  5  20  0\n",
       "4996  7   90   4   8  2  20  1\n",
       "4997  2   32  21  11  8  30  0\n",
       "4998  6   74  33  12  3   5  1\n",
       "4999  7   36  34  33  8  21  1\n",
       "\n",
       "[5000 rows x 7 columns]"
      ]
     },
     "execution_count": 38,
     "metadata": {},
     "output_type": "execute_result"
    }
   ],
   "source": [
    "X"
   ]
  },
  {
   "cell_type": "code",
   "execution_count": 39,
   "metadata": {},
   "outputs": [
    {
     "data": {
      "text/plain": [
       "0       3\n",
       "1       3\n",
       "2       3\n",
       "3       3\n",
       "4       3\n",
       "       ..\n",
       "4995    4\n",
       "4996    4\n",
       "4997    4\n",
       "4998    4\n",
       "4999    4\n",
       "Name: 8, Length: 5000, dtype: int64"
      ]
     },
     "execution_count": 39,
     "metadata": {},
     "output_type": "execute_result"
    }
   ],
   "source": [
    "y"
   ]
  },
  {
   "cell_type": "code",
   "execution_count": 40,
   "metadata": {},
   "outputs": [],
   "source": [
    "from keras.models import Sequential"
   ]
  },
  {
   "cell_type": "code",
   "execution_count": 41,
   "metadata": {},
   "outputs": [],
   "source": [
    "from keras.layers import Dense"
   ]
  },
  {
   "cell_type": "code",
   "execution_count": 42,
   "metadata": {},
   "outputs": [],
   "source": [
    "from keras.optimizers import Adam"
   ]
  },
  {
   "cell_type": "code",
   "execution_count": 43,
   "metadata": {},
   "outputs": [],
   "source": [
    "model = Sequential()"
   ]
  },
  {
   "cell_type": "code",
   "execution_count": 44,
   "metadata": {},
   "outputs": [],
   "source": [
    "model.add(Dense(units=12, input_dim=7, activation='relu') )"
   ]
  },
  {
   "cell_type": "code",
   "execution_count": 45,
   "metadata": {},
   "outputs": [],
   "source": [
    "model.add(Dense(units=1, activation='sigmoid'))"
   ]
  },
  {
   "cell_type": "code",
   "execution_count": 46,
   "metadata": {},
   "outputs": [
    {
     "name": "stdout",
     "output_type": "stream",
     "text": [
      "Model: \"sequential_1\"\n",
      "_________________________________________________________________\n",
      "Layer (type)                 Output Shape              Param #   \n",
      "=================================================================\n",
      "dense_2 (Dense)              (None, 12)                96        \n",
      "_________________________________________________________________\n",
      "dense_3 (Dense)              (None, 1)                 13        \n",
      "=================================================================\n",
      "Total params: 109\n",
      "Trainable params: 109\n",
      "Non-trainable params: 0\n",
      "_________________________________________________________________\n"
     ]
    }
   ],
   "source": [
    "model.summary()"
   ]
  },
  {
   "cell_type": "code",
   "execution_count": 47,
   "metadata": {},
   "outputs": [],
   "source": [
    "model.compile(loss='binary_crossentropy', optimizer='adam', metrics=['accuracy'])"
   ]
  },
  {
   "cell_type": "code",
   "execution_count": 48,
   "metadata": {},
   "outputs": [
    {
     "name": "stdout",
     "output_type": "stream",
     "text": [
      "Epoch 1/160\n",
      "157/157 [==============================] - 0s 2ms/step - loss: 59.1368 - accuracy: 0.1924\n",
      "Epoch 2/160\n",
      "157/157 [==============================] - 0s 2ms/step - loss: -29.5301 - accuracy: 0.2004\n",
      "Epoch 3/160\n",
      "157/157 [==============================] - 0s 2ms/step - loss: -101.0431 - accuracy: 0.2000\n",
      "Epoch 4/160\n",
      "157/157 [==============================] - 0s 2ms/step - loss: -205.7520 - accuracy: 0.2000\n",
      "Epoch 5/160\n",
      "157/157 [==============================] - 0s 2ms/step - loss: -344.0164 - accuracy: 0.2000\n",
      "Epoch 6/160\n",
      "157/157 [==============================] - 0s 2ms/step - loss: -514.5458 - accuracy: 0.2000\n",
      "Epoch 7/160\n",
      "157/157 [==============================] - 0s 2ms/step - loss: -715.4430 - accuracy: 0.2000\n",
      "Epoch 8/160\n",
      "157/157 [==============================] - 0s 2ms/step - loss: -944.3438 - accuracy: 0.2000\n",
      "Epoch 9/160\n",
      "157/157 [==============================] - 0s 2ms/step - loss: -1199.0521 - accuracy: 0.2000\n",
      "Epoch 10/160\n",
      "157/157 [==============================] - 0s 2ms/step - loss: -1499.4441 - accuracy: 0.2000\n",
      "Epoch 11/160\n",
      "157/157 [==============================] - 0s 2ms/step - loss: -1907.5358 - accuracy: 0.2000\n",
      "Epoch 12/160\n",
      "157/157 [==============================] - 0s 2ms/step - loss: -2373.5713 - accuracy: 0.2000\n",
      "Epoch 13/160\n",
      "157/157 [==============================] - 0s 2ms/step - loss: -2879.5322 - accuracy: 0.2000\n",
      "Epoch 14/160\n",
      "157/157 [==============================] - 0s 2ms/step - loss: -3418.1211 - accuracy: 0.2000\n",
      "Epoch 15/160\n",
      "157/157 [==============================] - 0s 1ms/step - loss: -3989.0645 - accuracy: 0.2000\n",
      "Epoch 16/160\n",
      "157/157 [==============================] - 0s 1ms/step - loss: -4587.9731 - accuracy: 0.2000\n",
      "Epoch 17/160\n",
      "157/157 [==============================] - 0s 2ms/step - loss: -5217.1494 - accuracy: 0.2000\n",
      "Epoch 18/160\n",
      "157/157 [==============================] - 0s 2ms/step - loss: -5875.5161 - accuracy: 0.2000\n",
      "Epoch 19/160\n",
      "157/157 [==============================] - 0s 2ms/step - loss: -6561.3379 - accuracy: 0.2000\n",
      "Epoch 20/160\n",
      "157/157 [==============================] - 0s 2ms/step - loss: -7274.8545 - accuracy: 0.2000\n",
      "Epoch 21/160\n",
      "157/157 [==============================] - 0s 2ms/step - loss: -8013.6074 - accuracy: 0.2000\n",
      "Epoch 22/160\n",
      "157/157 [==============================] - 0s 2ms/step - loss: -8780.9570 - accuracy: 0.2000\n",
      "Epoch 23/160\n",
      "157/157 [==============================] - 0s 2ms/step - loss: -9574.5732 - accuracy: 0.2000\n",
      "Epoch 24/160\n",
      "157/157 [==============================] - 0s 2ms/step - loss: -10393.4248 - accuracy: 0.2000\n",
      "Epoch 25/160\n",
      "157/157 [==============================] - 0s 2ms/step - loss: -11234.0557 - accuracy: 0.2000\n",
      "Epoch 26/160\n",
      "157/157 [==============================] - 0s 2ms/step - loss: -12097.2100 - accuracy: 0.2000\n",
      "Epoch 27/160\n",
      "157/157 [==============================] - 0s 2ms/step - loss: -12988.0146 - accuracy: 0.2000\n",
      "Epoch 28/160\n",
      "157/157 [==============================] - 0s 2ms/step - loss: -13902.8799 - accuracy: 0.2000\n",
      "Epoch 29/160\n",
      "157/157 [==============================] - 0s 3ms/step - loss: -14844.9229 - accuracy: 0.2000\n",
      "Epoch 30/160\n",
      "157/157 [==============================] - 0s 2ms/step - loss: -15815.2812 - accuracy: 0.2000\n",
      "Epoch 31/160\n",
      "157/157 [==============================] - 0s 2ms/step - loss: -16802.8887 - accuracy: 0.2000\n",
      "Epoch 32/160\n",
      "157/157 [==============================] - 0s 2ms/step - loss: -17819.0684 - accuracy: 0.2000\n",
      "Epoch 33/160\n",
      "157/157 [==============================] - 0s 2ms/step - loss: -18862.2363 - accuracy: 0.2000\n",
      "Epoch 34/160\n",
      "157/157 [==============================] - 0s 3ms/step - loss: -19923.3691 - accuracy: 0.2000\n",
      "Epoch 35/160\n",
      "157/157 [==============================] - 0s 3ms/step - loss: -21011.5918 - accuracy: 0.2000\n",
      "Epoch 36/160\n",
      "157/157 [==============================] - 0s 2ms/step - loss: -22128.0840 - accuracy: 0.2000\n",
      "Epoch 37/160\n",
      "157/157 [==============================] - 0s 2ms/step - loss: -23262.7656 - accuracy: 0.2000\n",
      "Epoch 38/160\n",
      "157/157 [==============================] - 0s 2ms/step - loss: -24420.4355 - accuracy: 0.2000\n",
      "Epoch 39/160\n",
      "157/157 [==============================] - 0s 2ms/step - loss: -25598.9023 - accuracy: 0.2000\n",
      "Epoch 40/160\n",
      "157/157 [==============================] - 0s 2ms/step - loss: -26800.1328 - accuracy: 0.2000\n",
      "Epoch 41/160\n",
      "157/157 [==============================] - 0s 2ms/step - loss: -28026.6875 - accuracy: 0.2000\n",
      "Epoch 42/160\n",
      "157/157 [==============================] - 0s 2ms/step - loss: -29273.8242 - accuracy: 0.2000\n",
      "Epoch 43/160\n",
      "157/157 [==============================] - 0s 2ms/step - loss: -30538.4707 - accuracy: 0.2000\n",
      "Epoch 44/160\n",
      "157/157 [==============================] - 0s 1ms/step - loss: -31832.8223 - accuracy: 0.2000\n",
      "Epoch 45/160\n",
      "157/157 [==============================] - 0s 2ms/step - loss: -33147.7383 - accuracy: 0.2000\n",
      "Epoch 46/160\n",
      "157/157 [==============================] - 0s 1ms/step - loss: -34479.6133 - accuracy: 0.2000\n",
      "Epoch 47/160\n",
      "157/157 [==============================] - 0s 2ms/step - loss: -35838.8555 - accuracy: 0.2000\n",
      "Epoch 48/160\n",
      "157/157 [==============================] - 0s 2ms/step - loss: -37224.5781 - accuracy: 0.2000\n",
      "Epoch 49/160\n",
      "157/157 [==============================] - 0s 2ms/step - loss: -38632.5039 - accuracy: 0.2000\n",
      "Epoch 50/160\n",
      "157/157 [==============================] - 0s 2ms/step - loss: -40058.9648 - accuracy: 0.2000\n",
      "Epoch 51/160\n",
      "157/157 [==============================] - 0s 2ms/step - loss: -41583.3086 - accuracy: 0.2000\n",
      "Epoch 52/160\n",
      "157/157 [==============================] - 0s 2ms/step - loss: -43206.9336 - accuracy: 0.2000\n",
      "Epoch 53/160\n",
      "157/157 [==============================] - 0s 2ms/step - loss: -44876.3906 - accuracy: 0.2000\n",
      "Epoch 54/160\n",
      "157/157 [==============================] - 0s 2ms/step - loss: -46582.0391 - accuracy: 0.2000\n",
      "Epoch 55/160\n",
      "157/157 [==============================] - 0s 2ms/step - loss: -48316.8945 - accuracy: 0.2000\n",
      "Epoch 56/160\n",
      "157/157 [==============================] - 0s 1ms/step - loss: -50084.1602 - accuracy: 0.2000\n",
      "Epoch 57/160\n",
      "157/157 [==============================] - 0s 2ms/step - loss: -51876.0977 - accuracy: 0.2000\n",
      "Epoch 58/160\n",
      "157/157 [==============================] - 0s 2ms/step - loss: -53699.1289 - accuracy: 0.2000\n",
      "Epoch 59/160\n",
      "157/157 [==============================] - 0s 2ms/step - loss: -55557.9922 - accuracy: 0.2000\n",
      "Epoch 60/160\n",
      "157/157 [==============================] - 0s 2ms/step - loss: -57441.1953 - accuracy: 0.2000\n",
      "Epoch 61/160\n",
      "157/157 [==============================] - 0s 2ms/step - loss: -59359.9102 - accuracy: 0.2000\n",
      "Epoch 62/160\n",
      "157/157 [==============================] - 0s 2ms/step - loss: -61310.0938 - accuracy: 0.2000\n",
      "Epoch 63/160\n",
      "157/157 [==============================] - 0s 2ms/step - loss: -63298.6953 - accuracy: 0.2000\n",
      "Epoch 64/160\n",
      "157/157 [==============================] - 0s 2ms/step - loss: -65296.4023 - accuracy: 0.2000\n",
      "Epoch 65/160\n",
      "157/157 [==============================] - 0s 2ms/step - loss: -67330.3438 - accuracy: 0.2000\n",
      "Epoch 66/160\n",
      "157/157 [==============================] - 0s 2ms/step - loss: -69402.4766 - accuracy: 0.2000\n",
      "Epoch 67/160\n",
      "157/157 [==============================] - 0s 2ms/step - loss: -71496.0781 - accuracy: 0.2000\n",
      "Epoch 68/160\n",
      "157/157 [==============================] - 0s 2ms/step - loss: -73618.8516 - accuracy: 0.2000\n",
      "Epoch 69/160\n",
      "157/157 [==============================] - 0s 2ms/step - loss: -75778.7266 - accuracy: 0.2000\n",
      "Epoch 70/160\n",
      "157/157 [==============================] - 0s 2ms/step - loss: -77979.5625 - accuracy: 0.2000\n",
      "Epoch 71/160\n",
      "157/157 [==============================] - 0s 2ms/step - loss: -80200.7500 - accuracy: 0.2000\n",
      "Epoch 72/160\n",
      "157/157 [==============================] - 0s 2ms/step - loss: -82454.2500 - accuracy: 0.2000\n",
      "Epoch 73/160\n",
      "157/157 [==============================] - 0s 2ms/step - loss: -84729.8594 - accuracy: 0.2000\n",
      "Epoch 74/160\n",
      "157/157 [==============================] - 0s 2ms/step - loss: -87048.0391 - accuracy: 0.2000\n",
      "Epoch 75/160\n",
      "157/157 [==============================] - 0s 2ms/step - loss: -89379.8438 - accuracy: 0.2000\n",
      "Epoch 76/160\n",
      "157/157 [==============================] - 0s 2ms/step - loss: -91757.3438 - accuracy: 0.2000\n",
      "Epoch 77/160\n",
      "157/157 [==============================] - 0s 2ms/step - loss: -94145.0781 - accuracy: 0.2000\n"
     ]
    },
    {
     "name": "stdout",
     "output_type": "stream",
     "text": [
      "Epoch 78/160\n",
      "157/157 [==============================] - 0s 1ms/step - loss: -96563.0938 - accuracy: 0.2000\n",
      "Epoch 79/160\n",
      "157/157 [==============================] - 0s 1ms/step - loss: -99015.6250 - accuracy: 0.2000\n",
      "Epoch 80/160\n",
      "157/157 [==============================] - 0s 1ms/step - loss: -101489.2578 - accuracy: 0.2000\n",
      "Epoch 81/160\n",
      "157/157 [==============================] - 0s 1ms/step - loss: -103990.1328 - accuracy: 0.2000\n",
      "Epoch 82/160\n",
      "157/157 [==============================] - 0s 1ms/step - loss: -106525.6094 - accuracy: 0.2000\n",
      "Epoch 83/160\n",
      "157/157 [==============================] - 0s 1ms/step - loss: -109073.7500 - accuracy: 0.2000\n",
      "Epoch 84/160\n",
      "157/157 [==============================] - 0s 2ms/step - loss: -111658.0625 - accuracy: 0.2000\n",
      "Epoch 85/160\n",
      "157/157 [==============================] - 0s 1ms/step - loss: -114268.7578 - accuracy: 0.2000\n",
      "Epoch 86/160\n",
      "157/157 [==============================] - 0s 1ms/step - loss: -116924.3359 - accuracy: 0.2000\n",
      "Epoch 87/160\n",
      "157/157 [==============================] - 0s 1ms/step - loss: -119605.2578 - accuracy: 0.2000\n",
      "Epoch 88/160\n",
      "157/157 [==============================] - 0s 1ms/step - loss: -122325.6094 - accuracy: 0.2000\n",
      "Epoch 89/160\n",
      "157/157 [==============================] - 0s 1ms/step - loss: -125073.8828 - accuracy: 0.2000\n",
      "Epoch 90/160\n",
      "157/157 [==============================] - 0s 1ms/step - loss: -127850.3438 - accuracy: 0.2000\n",
      "Epoch 91/160\n",
      "157/157 [==============================] - 0s 1ms/step - loss: -130656.2812 - accuracy: 0.2000\n",
      "Epoch 92/160\n",
      "157/157 [==============================] - 0s 1ms/step - loss: -133496.1562 - accuracy: 0.2000\n",
      "Epoch 93/160\n",
      "157/157 [==============================] - 0s 2ms/step - loss: -136347.8438 - accuracy: 0.2000\n",
      "Epoch 94/160\n",
      "157/157 [==============================] - 0s 1ms/step - loss: -139242.7656 - accuracy: 0.2000\n",
      "Epoch 95/160\n",
      "157/157 [==============================] - 0s 2ms/step - loss: -142167.3281 - accuracy: 0.2000\n",
      "Epoch 96/160\n",
      "157/157 [==============================] - 0s 2ms/step - loss: -145123.2031 - accuracy: 0.2000\n",
      "Epoch 97/160\n",
      "157/157 [==============================] - 0s 2ms/step - loss: -148110.3750 - accuracy: 0.2000\n",
      "Epoch 98/160\n",
      "157/157 [==============================] - 0s 2ms/step - loss: -151121.7344 - accuracy: 0.2000\n",
      "Epoch 99/160\n",
      "157/157 [==============================] - 0s 2ms/step - loss: -154154.7969 - accuracy: 0.2000\n",
      "Epoch 100/160\n",
      "157/157 [==============================] - 0s 2ms/step - loss: -157218.9844 - accuracy: 0.2000\n",
      "Epoch 101/160\n",
      "157/157 [==============================] - 0s 2ms/step - loss: -160302.1094 - accuracy: 0.2000\n",
      "Epoch 102/160\n",
      "157/157 [==============================] - 0s 1ms/step - loss: -163412.1719 - accuracy: 0.2000\n",
      "Epoch 103/160\n",
      "157/157 [==============================] - 0s 1ms/step - loss: -166572.9219 - accuracy: 0.2000\n",
      "Epoch 104/160\n",
      "157/157 [==============================] - 0s 2ms/step - loss: -169757.4375 - accuracy: 0.2000\n",
      "Epoch 105/160\n",
      "157/157 [==============================] - 0s 1ms/step - loss: -172980.4844 - accuracy: 0.2000\n",
      "Epoch 106/160\n",
      "157/157 [==============================] - 0s 1ms/step - loss: -176232.2812 - accuracy: 0.2000\n",
      "Epoch 107/160\n",
      "157/157 [==============================] - 0s 3ms/step - loss: -179507.8438 - accuracy: 0.2000\n",
      "Epoch 108/160\n",
      "157/157 [==============================] - 0s 1ms/step - loss: -182817.8594 - accuracy: 0.2000\n",
      "Epoch 109/160\n",
      "157/157 [==============================] - 0s 1ms/step - loss: -186143.3125 - accuracy: 0.2000\n",
      "Epoch 110/160\n",
      "157/157 [==============================] - 0s 1ms/step - loss: -189509.7344 - accuracy: 0.2000\n",
      "Epoch 111/160\n",
      "157/157 [==============================] - 0s 1ms/step - loss: -192884.1406 - accuracy: 0.2000\n",
      "Epoch 112/160\n",
      "157/157 [==============================] - 0s 1ms/step - loss: -196302.2656 - accuracy: 0.2000\n",
      "Epoch 113/160\n",
      "157/157 [==============================] - 0s 2ms/step - loss: -199753.5625 - accuracy: 0.2000\n",
      "Epoch 114/160\n",
      "157/157 [==============================] - 0s 1ms/step - loss: -203236.2188 - accuracy: 0.2000\n",
      "Epoch 115/160\n",
      "157/157 [==============================] - 0s 1ms/step - loss: -206746.6719 - accuracy: 0.2000\n",
      "Epoch 116/160\n",
      "157/157 [==============================] - 0s 2ms/step - loss: -210269.0000 - accuracy: 0.2000\n",
      "Epoch 117/160\n",
      "157/157 [==============================] - 0s 2ms/step - loss: -213836.0781 - accuracy: 0.2000\n",
      "Epoch 118/160\n",
      "157/157 [==============================] - 0s 2ms/step - loss: -217422.2344 - accuracy: 0.2000\n",
      "Epoch 119/160\n",
      "157/157 [==============================] - 0s 1ms/step - loss: -221039.5469 - accuracy: 0.2000\n",
      "Epoch 120/160\n",
      "157/157 [==============================] - 0s 2ms/step - loss: -224694.6094 - accuracy: 0.2000\n",
      "Epoch 121/160\n",
      "157/157 [==============================] - 0s 1ms/step - loss: -228376.1094 - accuracy: 0.2000\n",
      "Epoch 122/160\n",
      "157/157 [==============================] - 0s 1ms/step - loss: -232083.6406 - accuracy: 0.2000\n",
      "Epoch 123/160\n",
      "157/157 [==============================] - 0s 1ms/step - loss: -235809.4844 - accuracy: 0.2000\n",
      "Epoch 124/160\n",
      "157/157 [==============================] - 0s 1ms/step - loss: -239581.0000 - accuracy: 0.2000\n",
      "Epoch 125/160\n",
      "157/157 [==============================] - 0s 2ms/step - loss: -243373.9531 - accuracy: 0.2000\n",
      "Epoch 126/160\n",
      "157/157 [==============================] - 0s 1ms/step - loss: -247210.2969 - accuracy: 0.2000\n",
      "Epoch 127/160\n",
      "157/157 [==============================] - 0s 2ms/step - loss: -251086.1875 - accuracy: 0.2000\n",
      "Epoch 128/160\n",
      "157/157 [==============================] - 0s 2ms/step - loss: -254966.6094 - accuracy: 0.2000\n",
      "Epoch 129/160\n",
      "157/157 [==============================] - 0s 2ms/step - loss: -258884.4844 - accuracy: 0.2000\n",
      "Epoch 130/160\n",
      "157/157 [==============================] - 0s 2ms/step - loss: -262823.2500 - accuracy: 0.2000\n",
      "Epoch 131/160\n",
      "157/157 [==============================] - 0s 2ms/step - loss: -266773.2500 - accuracy: 0.2000\n",
      "Epoch 132/160\n",
      "157/157 [==============================] - 0s 2ms/step - loss: -270768.9062 - accuracy: 0.2000\n",
      "Epoch 133/160\n",
      "157/157 [==============================] - 0s 2ms/step - loss: -274813.2500 - accuracy: 0.2000\n",
      "Epoch 134/160\n",
      "157/157 [==============================] - 0s 2ms/step - loss: -278836.3750 - accuracy: 0.2000\n",
      "Epoch 135/160\n",
      "157/157 [==============================] - 0s 2ms/step - loss: -282917.3750 - accuracy: 0.2000\n",
      "Epoch 136/160\n",
      "157/157 [==============================] - 0s 2ms/step - loss: -287025.0000 - accuracy: 0.2000\n",
      "Epoch 137/160\n",
      "157/157 [==============================] - 0s 2ms/step - loss: -291141.8750 - accuracy: 0.2000\n",
      "Epoch 138/160\n",
      "157/157 [==============================] - 0s 2ms/step - loss: -295298.1875 - accuracy: 0.2000\n",
      "Epoch 139/160\n",
      "157/157 [==============================] - 0s 2ms/step - loss: -299495.7188 - accuracy: 0.2000\n",
      "Epoch 140/160\n",
      "157/157 [==============================] - 0s 2ms/step - loss: -303700.6875 - accuracy: 0.2000\n",
      "Epoch 141/160\n",
      "157/157 [==============================] - 0s 2ms/step - loss: -307944.8438 - accuracy: 0.2000\n",
      "Epoch 142/160\n",
      "157/157 [==============================] - 0s 2ms/step - loss: -312229.5000 - accuracy: 0.2000\n",
      "Epoch 143/160\n",
      "157/157 [==============================] - 0s 2ms/step - loss: -316520.1875 - accuracy: 0.2000\n",
      "Epoch 144/160\n",
      "157/157 [==============================] - 0s 2ms/step - loss: -320865.2500 - accuracy: 0.2000\n",
      "Epoch 145/160\n",
      "157/157 [==============================] - 0s 2ms/step - loss: -325232.3438 - accuracy: 0.2000\n",
      "Epoch 146/160\n",
      "157/157 [==============================] - 0s 2ms/step - loss: -329622.4375 - accuracy: 0.2000\n",
      "Epoch 147/160\n",
      "157/157 [==============================] - 0s 2ms/step - loss: -334034.2500 - accuracy: 0.2000\n",
      "Epoch 148/160\n",
      "157/157 [==============================] - 0s 2ms/step - loss: -338488.6875 - accuracy: 0.2000\n",
      "Epoch 149/160\n",
      "157/157 [==============================] - 0s 2ms/step - loss: -342963.0000 - accuracy: 0.2000\n",
      "Epoch 150/160\n",
      "157/157 [==============================] - 0s 2ms/step - loss: -347474.3438 - accuracy: 0.2000\n",
      "Epoch 151/160\n",
      "157/157 [==============================] - 0s 2ms/step - loss: -352006.3750 - accuracy: 0.2000\n",
      "Epoch 152/160\n",
      "157/157 [==============================] - 0s 2ms/step - loss: -356580.8125 - accuracy: 0.2000\n",
      "Epoch 153/160\n"
     ]
    },
    {
     "name": "stdout",
     "output_type": "stream",
     "text": [
      "157/157 [==============================] - 0s 2ms/step - loss: -361182.0938 - accuracy: 0.2000\n",
      "Epoch 154/160\n",
      "157/157 [==============================] - 0s 2ms/step - loss: -365806.5000 - accuracy: 0.2000\n",
      "Epoch 155/160\n",
      "157/157 [==============================] - 0s 2ms/step - loss: -370458.0312 - accuracy: 0.2000\n",
      "Epoch 156/160\n",
      "157/157 [==============================] - 0s 2ms/step - loss: -375145.0312 - accuracy: 0.2000\n",
      "Epoch 157/160\n",
      "157/157 [==============================] - 0s 2ms/step - loss: -379849.2812 - accuracy: 0.2000\n",
      "Epoch 158/160\n",
      "157/157 [==============================] - 0s 2ms/step - loss: -384612.0000 - accuracy: 0.2000\n",
      "Epoch 159/160\n",
      "157/157 [==============================] - 0s 2ms/step - loss: -389393.4375 - accuracy: 0.2000\n",
      "Epoch 160/160\n",
      "157/157 [==============================] - 0s 1ms/step - loss: -394191.4062 - accuracy: 0.2000\n"
     ]
    },
    {
     "data": {
      "text/plain": [
       "<tensorflow.python.keras.callbacks.History at 0x7f198804ac50>"
      ]
     },
     "execution_count": 48,
     "metadata": {},
     "output_type": "execute_result"
    }
   ],
   "source": [
    "model.fit(X, y, epochs=160)"
   ]
  },
  {
   "cell_type": "code",
   "execution_count": 25,
   "metadata": {},
   "outputs": [],
   "source": [
    "model.save(\"dia_model.h5\")"
   ]
  },
  {
   "cell_type": "markdown",
   "metadata": {},
   "source": [
    "# ANN - MLP"
   ]
  },
  {
   "cell_type": "code",
   "execution_count": 49,
   "metadata": {},
   "outputs": [],
   "source": [
    "from sklearn.neural_network import MLPClassifier\n",
    "from sklearn.model_selection import train_test_split\n",
    "X_train, X_test, y_train, y_test = train_test_split(X, y,random_state=1)"
   ]
  },
  {
   "cell_type": "code",
   "execution_count": 50,
   "metadata": {},
   "outputs": [],
   "source": [
    "from sklearn.model_selection import cross_val_score\n",
    "from sklearn.metrics import classification_report\n",
    "from sklearn.metrics import confusion_matrix\n",
    "from sklearn.metrics import accuracy_score"
   ]
  },
  {
   "cell_type": "code",
   "execution_count": 51,
   "metadata": {},
   "outputs": [],
   "source": [
    "clf = MLPClassifier(random_state=1, max_iter=300).fit(X, y)"
   ]
  },
  {
   "cell_type": "code",
   "execution_count": 52,
   "metadata": {},
   "outputs": [
    {
     "name": "stdout",
     "output_type": "stream",
     "text": [
      "*Confusion Matrix for DT: \n",
      "[[ 24  18 149  33  13]\n",
      " [ 33  19 127  48  14]\n",
      " [ 32  21 170  41  13]\n",
      " [ 24  15 144  48  14]\n",
      " [ 27  16 161  27  19]]\n"
     ]
    }
   ],
   "source": [
    "clf.fit(X_train, y_train)\n",
    "predictions = clf.predict(X_test)\n",
    "print(\"*Confusion Matrix for DT: \")\n",
    "print(confusion_matrix(y_test, predictions))"
   ]
  },
  {
   "cell_type": "code",
   "execution_count": 53,
   "metadata": {},
   "outputs": [
    {
     "name": "stdout",
     "output_type": "stream",
     "text": [
      "22.400000000000002\n"
     ]
    }
   ],
   "source": [
    "val = accuracy_score(y_test, predictions) * 100\n",
    "print(val)"
   ]
  },
  {
   "cell_type": "code",
   "execution_count": null,
   "metadata": {},
   "outputs": [],
   "source": []
  }
 ],
 "metadata": {
  "kernelspec": {
   "display_name": "Python 3",
   "language": "python",
   "name": "python3"
  },
  "language_info": {
   "codemirror_mode": {
    "name": "ipython",
    "version": 3
   },
   "file_extension": ".py",
   "mimetype": "text/x-python",
   "name": "python",
   "nbconvert_exporter": "python",
   "pygments_lexer": "ipython3",
   "version": "3.7.3"
  }
 },
 "nbformat": 4,
 "nbformat_minor": 5
}
